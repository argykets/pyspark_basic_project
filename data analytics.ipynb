{
 "cells": [
  {
   "cell_type": "code",
   "execution_count": 1,
   "metadata": {},
   "outputs": [],
   "source": [
    "from pyspark.sql import SparkSession"
   ]
  },
  {
   "cell_type": "code",
   "execution_count": 2,
   "metadata": {},
   "outputs": [
    {
     "name": "stderr",
     "output_type": "stream",
     "text": [
      "Setting default log level to \"WARN\".\n",
      "To adjust logging level use sc.setLogLevel(newLevel). For SparkR, use setLogLevel(newLevel).\n"
     ]
    },
    {
     "name": "stdout",
     "output_type": "stream",
     "text": [
      "24/01/26 11:30:42 WARN NativeCodeLoader: Unable to load native-hadoop library for your platform... using builtin-java classes where applicable\n"
     ]
    }
   ],
   "source": [
    "spark = SparkSession.builder.appName('Data Analysis with Pyspark').getOrCreate()"
   ]
  },
  {
   "cell_type": "markdown",
   "metadata": {},
   "source": [
    "## Agenta\n",
    "We have google playstore dataset containing information of different apps installed rating and versions and other details and we are going to do analysis based on the data we have\n",
    "\n",
    "1. find out top 10 reviews given to the apps\n",
    "2. top 10 install apps and distribution of type (free/paid)\n",
    "3. category wise distribution of installed apps\n",
    "4. top paid apps\n",
    "5. top paid rating apps"
   ]
  },
  {
   "cell_type": "code",
   "execution_count": 3,
   "metadata": {},
   "outputs": [
    {
     "name": "stderr",
     "output_type": "stream",
     "text": [
      "                                                                                \r"
     ]
    }
   ],
   "source": [
    "data = spark.read.csv(path='data/googlestore.csv', header=True, inferSchema=True, sep=';')"
   ]
  },
  {
   "cell_type": "code",
   "execution_count": 4,
   "metadata": {},
   "outputs": [
    {
     "name": "stdout",
     "output_type": "stream",
     "text": [
      "+--------------------+--------------+------+-------+----+-----------+----+-----+--------------+--------------------+--------------------+------------------+------------+\n",
      "|                 App|      Category|Rating|Reviews|Size|   Installs|Type|Price|Content Rating|              Genres|        Last Updated|       Current Ver| Android Ver|\n",
      "+--------------------+--------------+------+-------+----+-----------+----+-----+--------------+--------------------+--------------------+------------------+------------+\n",
      "|Photo Editor & Ca...|ART_AND_DESIGN|   4,1|    159| 19M|    10,000+|Free|    0|      Everyone|        Art & Design|  Ιανουαρίου 7, 2018|             1.0.0|4.0.3 and up|\n",
      "| Coloring book moana|ART_AND_DESIGN|   3,9|    967| 14M|   500,000+|Free|    0|      Everyone|Art & Design;Pret...| Ιανουαρίου 15, 2018|             2.0.0|4.0.3 and up|\n",
      "|U Launcher Lite â...|ART_AND_DESIGN|   4,7|  87510|8.7M| 5,000,000+|Free|    0|      Everyone|        Art & Design|   Αυγούστου 1, 2018|             1.2.4|4.0.3 and up|\n",
      "|Sketch - Draw & P...|ART_AND_DESIGN|   4,5| 215644| 25M|50,000,000+|Free|    0|          Teen|        Art & Design|     Ιουνίου 8, 2018|Varies with device|  4.2 and up|\n",
      "|Pixel Draw - Numb...|ART_AND_DESIGN|   4,3|    967|2.8M|   100,000+|Free|    0|      Everyone|Art & Design;Crea...|    Ιουνίου 20, 2018|               1,1|  4.4 and up|\n",
      "|Paper flowers ins...|ART_AND_DESIGN|   4,4|    167|5.6M|    50,000+|Free|    0|      Everyone|        Art & Design|    Μαρτίου 26, 2017|                 1|  2.3 and up|\n",
      "|Smoke Effect Phot...|ART_AND_DESIGN|   3,8|    178| 19M|    50,000+|Free|    0|      Everyone|        Art & Design|   Απριλίου 26, 2018|               1,1|4.0.3 and up|\n",
      "|    Infinite Painter|ART_AND_DESIGN|   4,1|  36815| 29M| 1,000,000+|Free|    0|      Everyone|        Art & Design|    Ιουνίου 14, 2018|          6.1.61.1|  4.2 and up|\n",
      "|Garden Coloring Book|ART_AND_DESIGN|   4,4|  13791| 33M| 1,000,000+|Free|    0|      Everyone|        Art & Design|Σεπτεμβρίου 20, 2017|             2.9.2|  3.0 and up|\n",
      "|Kids Paint Free -...|ART_AND_DESIGN|   4,7|    121|3.1M|    10,000+|Free|    0|      Everyone|Art & Design;Crea...|     Ιουλίου 3, 2018|               2,8|4.0.3 and up|\n",
      "|Text on Photo - F...|ART_AND_DESIGN|   4,4|  13880| 28M| 1,000,000+|Free|    0|      Everyone|        Art & Design|  Οκτωβρίου 27, 2017|             1.0.4|  4.1 and up|\n",
      "|Name Art Photo Ed...|ART_AND_DESIGN|   4,4|   8788| 12M| 1,000,000+|Free|    0|      Everyone|        Art & Design|    Ιουλίου 31, 2018|            1.0.15|  4.0 and up|\n",
      "|Tattoo Name On My...|ART_AND_DESIGN|   4,2|  44829| 20M|10,000,000+|Free|    0|          Teen|        Art & Design|    Απριλίου 2, 2018|               3,8|  4.1 and up|\n",
      "|Mandala Coloring ...|ART_AND_DESIGN|   4,6|   4326| 21M|   100,000+|Free|    0|      Everyone|        Art & Design|    Ιουνίου 26, 2018|             1.0.4|  4.4 and up|\n",
      "|3D Color Pixel by...|ART_AND_DESIGN|   4,4|   1518| 37M|   100,000+|Free|    0|      Everyone|        Art & Design|   Αυγούστου 3, 2018|             1.2.3|  2.3 and up|\n",
      "|Learn To Draw Kaw...|ART_AND_DESIGN|   3,2|     55|2.7M|     5,000+|Free|    0|      Everyone|        Art & Design|     Ιουνίου 6, 2018|               NaN|  4.2 and up|\n",
      "|Photo Designer - ...|ART_AND_DESIGN|   4,7|   3632|5.5M|   500,000+|Free|    0|      Everyone|        Art & Design|    Ιουλίου 31, 2018|               3,1|  4.1 and up|\n",
      "|350 Diy Room Deco...|ART_AND_DESIGN|   4,5|     27| 17M|    10,000+|Free|    0|      Everyone|        Art & Design|   Νοεμβρίου 7, 2017|                 1|  2.3 and up|\n",
      "|FlipaClip - Carto...|ART_AND_DESIGN|   4,3| 194216| 39M| 5,000,000+|Free|    0|      Everyone|        Art & Design|   Αυγούστου 3, 2018|             2.2.5|4.0.3 and up|\n",
      "|        ibis Paint X|ART_AND_DESIGN|   4,6| 224399| 31M|10,000,000+|Free|    0|      Everyone|        Art & Design|    Ιουλίου 30, 2018|             5.5.4|  4.1 and up|\n",
      "+--------------------+--------------+------+-------+----+-----------+----+-----+--------------+--------------------+--------------------+------------------+------------+\n",
      "only showing top 20 rows\n",
      "\n"
     ]
    }
   ],
   "source": [
    "data.show()"
   ]
  },
  {
   "cell_type": "code",
   "execution_count": 5,
   "metadata": {},
   "outputs": [
    {
     "name": "stdout",
     "output_type": "stream",
     "text": [
      "root\n",
      " |-- App: string (nullable = true)\n",
      " |-- Category: string (nullable = true)\n",
      " |-- Rating: string (nullable = true)\n",
      " |-- Reviews: string (nullable = true)\n",
      " |-- Size: string (nullable = true)\n",
      " |-- Installs: string (nullable = true)\n",
      " |-- Type: string (nullable = true)\n",
      " |-- Price: string (nullable = true)\n",
      " |-- Content Rating: string (nullable = true)\n",
      " |-- Genres: string (nullable = true)\n",
      " |-- Last Updated: string (nullable = true)\n",
      " |-- Current Ver: string (nullable = true)\n",
      " |-- Android Ver: string (nullable = true)\n",
      "\n"
     ]
    }
   ],
   "source": [
    "data.printSchema()"
   ]
  },
  {
   "cell_type": "code",
   "execution_count": 6,
   "metadata": {},
   "outputs": [
    {
     "data": {
      "text/plain": [
       "10841"
      ]
     },
     "execution_count": 6,
     "metadata": {},
     "output_type": "execute_result"
    }
   ],
   "source": [
    "data.count()"
   ]
  },
  {
   "cell_type": "code",
   "execution_count": 7,
   "metadata": {},
   "outputs": [],
   "source": [
    "data = data.drop('Size', 'Content Rating', 'Last Updated', 'Android Ver')"
   ]
  },
  {
   "cell_type": "code",
   "execution_count": 8,
   "metadata": {},
   "outputs": [],
   "source": [
    "from pyspark.sql.functions import col, regexp_replace"
   ]
  },
  {
   "cell_type": "code",
   "execution_count": 9,
   "metadata": {},
   "outputs": [],
   "source": [
    "from pyspark.sql.types import IntegerType, FloatType, StringType"
   ]
  },
  {
   "cell_type": "code",
   "execution_count": 10,
   "metadata": {},
   "outputs": [],
   "source": [
    "data = data\\\n",
    ".withColumn('Reviews', col('Reviews').cast(FloatType()))\\\n",
    ".withColumn('Installs', regexp_replace(col('Installs'), '[^0-9]', ''))\\\n",
    ".withColumn('Installs', col('Installs').cast(IntegerType()))\\\n",
    ".withColumn('Price', regexp_replace(col('Price'), '[$]', ''))\\\n",
    ".withColumn('Price', col('Price').cast(FloatType()))"
   ]
  },
  {
   "cell_type": "code",
   "execution_count": 11,
   "metadata": {},
   "outputs": [
    {
     "name": "stdout",
     "output_type": "stream",
     "text": [
      "root\n",
      " |-- App: string (nullable = true)\n",
      " |-- Category: string (nullable = true)\n",
      " |-- Rating: string (nullable = true)\n",
      " |-- Reviews: float (nullable = true)\n",
      " |-- Installs: integer (nullable = true)\n",
      " |-- Type: string (nullable = true)\n",
      " |-- Price: float (nullable = true)\n",
      " |-- Genres: string (nullable = true)\n",
      " |-- Current Ver: string (nullable = true)\n",
      "\n"
     ]
    }
   ],
   "source": [
    "data.printSchema()"
   ]
  },
  {
   "cell_type": "code",
   "execution_count": 50,
   "metadata": {},
   "outputs": [
    {
     "name": "stdout",
     "output_type": "stream",
     "text": [
      "+--------------------+------------+\n",
      "|                 App|sum(Reviews)|\n",
      "+--------------------+------------+\n",
      "|           Instagram|2.66241988E8|\n",
      "|  WhatsApp Messenger|2.07348296E8|\n",
      "|      Clash of Clans|1.79558784E8|\n",
      "|Messenger â€“ Tex...|1.69932272E8|\n",
      "|      Subway Surfers|1.66331958E8|\n",
      "|    Candy Crush Saga|1.56993136E8|\n",
      "|            Facebook|1.56286512E8|\n",
      "|         8 Ball Pool| 9.9386198E7|\n",
      "|        Clash Royale|   9.25303E7|\n",
      "|            Snapchat|  6.804501E7|\n",
      "+--------------------+------------+\n",
      "only showing top 10 rows\n",
      "\n"
     ]
    }
   ],
   "source": [
    "# top reviewed apps\n",
    "data.select('App', 'Reviews').groupBy('App').sum().orderBy('sum(Reviews)', ascending=False).show(10)"
   ]
  },
  {
   "cell_type": "code",
   "execution_count": 61,
   "metadata": {},
   "outputs": [],
   "source": [
    "from pyspark.sql.functions import sum"
   ]
  },
  {
   "cell_type": "code",
   "execution_count": 67,
   "metadata": {},
   "outputs": [
    {
     "name": "stdout",
     "output_type": "stream",
     "text": [
      "+-------------------+--------------+\n",
      "|           Category|Total Installs|\n",
      "+-------------------+--------------+\n",
      "|               GAME|   35086024415|\n",
      "|      COMMUNICATION|   32647276251|\n",
      "|       PRODUCTIVITY|   14176091369|\n",
      "|             SOCIAL|   14069867902|\n",
      "|              TOOLS|   11452771915|\n",
      "|             FAMILY|   10258263505|\n",
      "|        PHOTOGRAPHY|   10088247655|\n",
      "| NEWS_AND_MAGAZINES|    7496317760|\n",
      "|   TRAVEL_AND_LOCAL|    6868887146|\n",
      "|      VIDEO_PLAYERS|    6222002720|\n",
      "|           SHOPPING|    3247848785|\n",
      "|      ENTERTAINMENT|    2869160000|\n",
      "|    PERSONALIZATION|    2325494782|\n",
      "|BOOKS_AND_REFERENCE|    1921469576|\n",
      "|             SPORTS|    1751174498|\n",
      "| HEALTH_AND_FITNESS|    1583072512|\n",
      "|           BUSINESS|    1001914865|\n",
      "|            FINANCE|     876648734|\n",
      "|          EDUCATION|     871452000|\n",
      "|MAPS_AND_NAVIGATION|     724281890|\n",
      "+-------------------+--------------+\n",
      "only showing top 20 rows\n",
      "\n"
     ]
    }
   ],
   "source": [
    "# app categories distribution\n",
    "data.select('Category', 'Installs')\\\n",
    ".groupBy('Category').agg(sum('Installs').alias('Total Installs'))\\\n",
    ".orderBy('Total Installs', ascending=False).show()"
   ]
  },
  {
   "cell_type": "code",
   "execution_count": 95,
   "metadata": {},
   "outputs": [
    {
     "name": "stdout",
     "output_type": "stream",
     "text": [
      "+--------------------+----+--------------+\n",
      "|                 App|Type|Total Installs|\n",
      "+--------------------+----+--------------+\n",
      "|      Subway Surfers|Free|    6000000000|\n",
      "|         Google News|Free|    4000000000|\n",
      "|        Google Drive|Free|    4000000000|\n",
      "|           Instagram|Free|    4000000000|\n",
      "|            Hangouts|Free|    4000000000|\n",
      "|       Google Photos|Free|    4000000000|\n",
      "|    Candy Crush Saga|Free|    3500000000|\n",
      "|Messenger â€“ Tex...|Free|    3000000000|\n",
      "|Skype - free IM &...|Free|    3000000000|\n",
      "|        Temple Run 2|Free|    3000000000|\n",
      "|  WhatsApp Messenger|Free|    3000000000|\n",
      "|               Gmail|Free|    3000000000|\n",
      "|Maps - Navigate &...|Free|    3000000000|\n",
      "|Google Chrome: Fa...|Free|    3000000000|\n",
      "|     Viber Messenger|Free|    2500000000|\n",
      "|            Snapchat|Free|    2000000000|\n",
      "|  Google Street View|Free|    2000000000|\n",
      "|                 Pou|Free|    2000000000|\n",
      "|             YouTube|Free|    2000000000|\n",
      "|            Facebook|Free|    2000000000|\n",
      "+--------------------+----+--------------+\n",
      "only showing top 20 rows\n",
      "\n"
     ]
    }
   ],
   "source": [
    "# top apps and their type\n",
    "data.select('App', 'Installs', 'Type')\\\n",
    ".groupBy('App', 'Type').agg(sum('Installs').alias('Total Installs'))\\\n",
    ".orderBy('Total Installs', ascending=False).show()"
   ]
  },
  {
   "cell_type": "code",
   "execution_count": 91,
   "metadata": {},
   "outputs": [
    {
     "name": "stdout",
     "output_type": "stream",
     "text": [
      "+--------------------+--------+\n",
      "|                 App|Installs|\n",
      "+--------------------+--------+\n",
      "|           Minecraft|10000000|\n",
      "|       Hitman Sniper|10000000|\n",
      "|           Minecraft|10000000|\n",
      "|Card Wars - Adven...| 1000000|\n",
      "| Facetune - For Free| 1000000|\n",
      "| Facetune - For Free| 1000000|\n",
      "|Beautiful Widgets...| 1000000|\n",
      "|   Cut the Rope GOLD| 1000000|\n",
      "|          True Skate| 1000000|\n",
      "| Facetune - For Free| 1000000|\n",
      "|Beautiful Widgets...| 1000000|\n",
      "|          HD Widgets| 1000000|\n",
      "| DraStic DS Emulator| 1000000|\n",
      "|Zombie Avengers:(...| 1000000|\n",
      "|Sleep as Android ...| 1000000|\n",
      "|Five Nights at Fr...| 1000000|\n",
      "|Infinity Dungeon VIP| 1000000|\n",
      "|          HD Widgets| 1000000|\n",
      "|             Threema| 1000000|\n",
      "|Grand Theft Auto:...| 1000000|\n",
      "+--------------------+--------+\n",
      "only showing top 20 rows\n",
      "\n"
     ]
    }
   ],
   "source": [
    "# top paid apps\n",
    "data.select('App', 'Installs').filter(col('Type') == 'Paid').orderBy('Installs', ascending=False).show()"
   ]
  },
  {
   "cell_type": "code",
   "execution_count": 100,
   "metadata": {},
   "outputs": [
    {
     "name": "stdout",
     "output_type": "stream",
     "text": [
      "+--------------------+-------------+\n",
      "|                 App|sum(Installs)|\n",
      "+--------------------+-------------+\n",
      "|           Minecraft|     20000000|\n",
      "|       Hitman Sniper|     10000000|\n",
      "| Facetune - For Free|      3000000|\n",
      "|          HD Widgets|      2000000|\n",
      "|Beautiful Widgets...|      2000000|\n",
      "|Infinity Dungeon VIP|      1000000|\n",
      "| DraStic DS Emulator|      1000000|\n",
      "| Fruit Ninja Classic|      1000000|\n",
      "|             Threema|      1000000|\n",
      "|          True Skate|      1000000|\n",
      "|              Tasker|      1000000|\n",
      "|Five Nights at Fr...|      1000000|\n",
      "|   Cut the Rope GOLD|      1000000|\n",
      "|Lost Journey (Dre...|      1000000|\n",
      "|Card Wars - Adven...|      1000000|\n",
      "|League of Stickma...|      1000000|\n",
      "|     Toca Life: City|      1000000|\n",
      "|   Where's My Water?|      1000000|\n",
      "|Stickman Legends:...|      1000000|\n",
      "|         Bloons TD 5|      1000000|\n",
      "+--------------------+-------------+\n",
      "only showing top 20 rows\n",
      "\n"
     ]
    }
   ],
   "source": [
    "# top paid rating apps\n",
    "data.select('App', 'Installs', 'Rating').filter(col('Type') == 'Paid').groupBy('App').sum('Installs').orderBy(['sum(Installs)'], ascending=False).show()"
   ]
  }
 ],
 "metadata": {
  "kernelspec": {
   "display_name": "spark_env",
   "language": "python",
   "name": "python3"
  },
  "language_info": {
   "codemirror_mode": {
    "name": "ipython",
    "version": 3
   },
   "file_extension": ".py",
   "mimetype": "text/x-python",
   "name": "python",
   "nbconvert_exporter": "python",
   "pygments_lexer": "ipython3",
   "version": "3.9.0"
  }
 },
 "nbformat": 4,
 "nbformat_minor": 2
}
